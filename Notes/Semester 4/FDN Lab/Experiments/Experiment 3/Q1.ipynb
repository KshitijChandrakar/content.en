{
 "cells": [
  {
   "cell_type": "markdown",
   "metadata": {},
   "source": [
    "## Preprocessing"
   ]
  },
  {
   "cell_type": "code",
   "execution_count": 21,
   "metadata": {
    "collapsed": false,
    "jupyter": {
     "outputs_hidden": false,
     "source_hidden": false
    },
    "nteract": {
     "transient": {
      "deleting": false
     }
    }
   },
   "outputs": [],
   "source": [
    "library(tidyverse)"
   ]
  },
  {
   "cell_type": "code",
   "execution_count": 9,
   "metadata": {
    "collapsed": false,
    "jupyter": {
     "outputs_hidden": false,
     "source_hidden": false
    },
    "nteract": {
     "transient": {
      "deleting": false
     }
    }
   },
   "outputs": [],
   "source": [
    "setwd(\"/home/asus/content/Notes/Semester 4/FDN Lab/Experiments/Experiment 3\")"
   ]
  },
  {
   "cell_type": "code",
   "execution_count": 10,
   "metadata": {
    "collapsed": false,
    "jupyter": {
     "outputs_hidden": false,
     "source_hidden": false
    },
    "nteract": {
     "transient": {
      "deleting": false
     }
    }
   },
   "outputs": [],
   "source": [
    "df <- data.frame(\n",
    "  ID = c(1, 2, 3, 4, 5, 6, 7, 8, 9, 10),\n",
    "  Name = c(\"Alice\", \"Bob\", NA, \"David\", \"Emma\", \"Frank\", NA, \"Hannah\", \"Ian\", \"Jack\"),\n",
    "  Age = c(25, NA, 30, 29, NA, 35, 40, NA, 50, 27),\n",
    "  Salary = c(50000, 60000, 55000, NA, 70000, 75000, 80000, 65000, NA, 72000),\n",
    "  Score = c(80, 90, NA, 85, 88, 92, NA, 77, 95, Inf)\n",
    ")\n"
   ]
  },
  {
   "cell_type": "markdown",
   "metadata": {
    "collapsed": false,
    "jupyter": {
     "outputs_hidden": false,
     "source_hidden": false
    },
    "nteract": {
     "transient": {
      "deleting": false
     }
    }
   },
   "source": [
    "## Exploring Inbuilt Functions"
   ]
  },
  {
   "cell_type": "markdown",
   "metadata": {},
   "source": [
    "a. Check missing values in a dataset using is.na(), complete.cases(), and summary()"
   ]
  },
  {
   "cell_type": "code",
   "execution_count": 12,
   "metadata": {
    "collapsed": false,
    "jupyter": {
     "outputs_hidden": false,
     "source_hidden": false
    },
    "nteract": {
     "transient": {
      "deleting": false
     }
    }
   },
   "outputs": [
    {
     "data": {
      "text/html": [
       "<table class=\"dataframe\">\n",
       "<caption>A matrix: 10 × 5 of type lgl</caption>\n",
       "<thead>\n",
       "\t<tr><th scope=col>ID</th><th scope=col>Name</th><th scope=col>Age</th><th scope=col>Salary</th><th scope=col>Score</th></tr>\n",
       "</thead>\n",
       "<tbody>\n",
       "\t<tr><td>FALSE</td><td>FALSE</td><td>FALSE</td><td>FALSE</td><td>FALSE</td></tr>\n",
       "\t<tr><td>FALSE</td><td>FALSE</td><td> TRUE</td><td>FALSE</td><td>FALSE</td></tr>\n",
       "\t<tr><td>FALSE</td><td> TRUE</td><td>FALSE</td><td>FALSE</td><td> TRUE</td></tr>\n",
       "\t<tr><td>FALSE</td><td>FALSE</td><td>FALSE</td><td> TRUE</td><td>FALSE</td></tr>\n",
       "\t<tr><td>FALSE</td><td>FALSE</td><td> TRUE</td><td>FALSE</td><td>FALSE</td></tr>\n",
       "\t<tr><td>FALSE</td><td>FALSE</td><td>FALSE</td><td>FALSE</td><td>FALSE</td></tr>\n",
       "\t<tr><td>FALSE</td><td> TRUE</td><td>FALSE</td><td>FALSE</td><td> TRUE</td></tr>\n",
       "\t<tr><td>FALSE</td><td>FALSE</td><td> TRUE</td><td>FALSE</td><td>FALSE</td></tr>\n",
       "\t<tr><td>FALSE</td><td>FALSE</td><td>FALSE</td><td> TRUE</td><td>FALSE</td></tr>\n",
       "\t<tr><td>FALSE</td><td>FALSE</td><td>FALSE</td><td>FALSE</td><td>FALSE</td></tr>\n",
       "</tbody>\n",
       "</table>\n"
      ],
      "text/latex": [
       "A matrix: 10 × 5 of type lgl\n",
       "\\begin{tabular}{lllll}\n",
       " ID & Name & Age & Salary & Score\\\\\n",
       "\\hline\n",
       "\t FALSE & FALSE & FALSE & FALSE & FALSE\\\\\n",
       "\t FALSE & FALSE &  TRUE & FALSE & FALSE\\\\\n",
       "\t FALSE &  TRUE & FALSE & FALSE &  TRUE\\\\\n",
       "\t FALSE & FALSE & FALSE &  TRUE & FALSE\\\\\n",
       "\t FALSE & FALSE &  TRUE & FALSE & FALSE\\\\\n",
       "\t FALSE & FALSE & FALSE & FALSE & FALSE\\\\\n",
       "\t FALSE &  TRUE & FALSE & FALSE &  TRUE\\\\\n",
       "\t FALSE & FALSE &  TRUE & FALSE & FALSE\\\\\n",
       "\t FALSE & FALSE & FALSE &  TRUE & FALSE\\\\\n",
       "\t FALSE & FALSE & FALSE & FALSE & FALSE\\\\\n",
       "\\end{tabular}\n"
      ],
      "text/markdown": [
       "\n",
       "A matrix: 10 × 5 of type lgl\n",
       "\n",
       "| ID | Name | Age | Salary | Score |\n",
       "|---|---|---|---|---|\n",
       "| FALSE | FALSE | FALSE | FALSE | FALSE |\n",
       "| FALSE | FALSE |  TRUE | FALSE | FALSE |\n",
       "| FALSE |  TRUE | FALSE | FALSE |  TRUE |\n",
       "| FALSE | FALSE | FALSE |  TRUE | FALSE |\n",
       "| FALSE | FALSE |  TRUE | FALSE | FALSE |\n",
       "| FALSE | FALSE | FALSE | FALSE | FALSE |\n",
       "| FALSE |  TRUE | FALSE | FALSE |  TRUE |\n",
       "| FALSE | FALSE |  TRUE | FALSE | FALSE |\n",
       "| FALSE | FALSE | FALSE |  TRUE | FALSE |\n",
       "| FALSE | FALSE | FALSE | FALSE | FALSE |\n",
       "\n"
      ],
      "text/plain": [
       "      ID    Name  Age   Salary Score\n",
       " [1,] FALSE FALSE FALSE FALSE  FALSE\n",
       " [2,] FALSE FALSE  TRUE FALSE  FALSE\n",
       " [3,] FALSE  TRUE FALSE FALSE   TRUE\n",
       " [4,] FALSE FALSE FALSE  TRUE  FALSE\n",
       " [5,] FALSE FALSE  TRUE FALSE  FALSE\n",
       " [6,] FALSE FALSE FALSE FALSE  FALSE\n",
       " [7,] FALSE  TRUE FALSE FALSE   TRUE\n",
       " [8,] FALSE FALSE  TRUE FALSE  FALSE\n",
       " [9,] FALSE FALSE FALSE  TRUE  FALSE\n",
       "[10,] FALSE FALSE FALSE FALSE  FALSE"
      ]
     },
     "metadata": {},
     "output_type": "display_data"
    }
   ],
   "source": [
    "is.na(df)\n"
   ]
  },
  {
   "cell_type": "code",
   "execution_count": 13,
   "metadata": {
    "collapsed": false,
    "jupyter": {
     "outputs_hidden": false,
     "source_hidden": false
    },
    "nteract": {
     "transient": {
      "deleting": false
     }
    }
   },
   "outputs": [
    {
     "data": {
      "text/html": [
       "<style>\n",
       ".list-inline {list-style: none; margin:0; padding: 0}\n",
       ".list-inline>li {display: inline-block}\n",
       ".list-inline>li:not(:last-child)::after {content: \"\\00b7\"; padding: 0 .5ex}\n",
       "</style>\n",
       "<ol class=list-inline><li>TRUE</li><li>FALSE</li><li>FALSE</li><li>FALSE</li><li>FALSE</li><li>TRUE</li><li>FALSE</li><li>FALSE</li><li>FALSE</li><li>TRUE</li></ol>\n"
      ],
      "text/latex": [
       "\\begin{enumerate*}\n",
       "\\item TRUE\n",
       "\\item FALSE\n",
       "\\item FALSE\n",
       "\\item FALSE\n",
       "\\item FALSE\n",
       "\\item TRUE\n",
       "\\item FALSE\n",
       "\\item FALSE\n",
       "\\item FALSE\n",
       "\\item TRUE\n",
       "\\end{enumerate*}\n"
      ],
      "text/markdown": [
       "1. TRUE\n",
       "2. FALSE\n",
       "3. FALSE\n",
       "4. FALSE\n",
       "5. FALSE\n",
       "6. TRUE\n",
       "7. FALSE\n",
       "8. FALSE\n",
       "9. FALSE\n",
       "10. TRUE\n",
       "\n",
       "\n"
      ],
      "text/plain": [
       " [1]  TRUE FALSE FALSE FALSE FALSE  TRUE FALSE FALSE FALSE  TRUE"
      ]
     },
     "metadata": {},
     "output_type": "display_data"
    }
   ],
   "source": [
    "complete.cases(df)"
   ]
  },
  {
   "cell_type": "code",
   "execution_count": 14,
   "metadata": {
    "collapsed": false,
    "jupyter": {
     "outputs_hidden": false,
     "source_hidden": false
    },
    "nteract": {
     "transient": {
      "deleting": false
     }
    }
   },
   "outputs": [
    {
     "data": {
      "text/html": [
       "<table class=\"dataframe\">\n",
       "<caption>A data.frame: 3 × 5</caption>\n",
       "<thead>\n",
       "\t<tr><th></th><th scope=col>ID</th><th scope=col>Name</th><th scope=col>Age</th><th scope=col>Salary</th><th scope=col>Score</th></tr>\n",
       "\t<tr><th></th><th scope=col>&lt;dbl&gt;</th><th scope=col>&lt;chr&gt;</th><th scope=col>&lt;dbl&gt;</th><th scope=col>&lt;dbl&gt;</th><th scope=col>&lt;dbl&gt;</th></tr>\n",
       "</thead>\n",
       "<tbody>\n",
       "\t<tr><th scope=row>1</th><td> 1</td><td>Alice</td><td>25</td><td>50000</td><td> 80</td></tr>\n",
       "\t<tr><th scope=row>6</th><td> 6</td><td>Frank</td><td>35</td><td>75000</td><td> 92</td></tr>\n",
       "\t<tr><th scope=row>10</th><td>10</td><td>Jack </td><td>27</td><td>72000</td><td>Inf</td></tr>\n",
       "</tbody>\n",
       "</table>\n"
      ],
      "text/latex": [
       "A data.frame: 3 × 5\n",
       "\\begin{tabular}{r|lllll}\n",
       "  & ID & Name & Age & Salary & Score\\\\\n",
       "  & <dbl> & <chr> & <dbl> & <dbl> & <dbl>\\\\\n",
       "\\hline\n",
       "\t1 &  1 & Alice & 25 & 50000 &  80\\\\\n",
       "\t6 &  6 & Frank & 35 & 75000 &  92\\\\\n",
       "\t10 & 10 & Jack  & 27 & 72000 & Inf\\\\\n",
       "\\end{tabular}\n"
      ],
      "text/markdown": [
       "\n",
       "A data.frame: 3 × 5\n",
       "\n",
       "| <!--/--> | ID &lt;dbl&gt; | Name &lt;chr&gt; | Age &lt;dbl&gt; | Salary &lt;dbl&gt; | Score &lt;dbl&gt; |\n",
       "|---|---|---|---|---|---|\n",
       "| 1 |  1 | Alice | 25 | 50000 |  80 |\n",
       "| 6 |  6 | Frank | 35 | 75000 |  92 |\n",
       "| 10 | 10 | Jack  | 27 | 72000 | Inf |\n",
       "\n"
      ],
      "text/plain": [
       "   ID Name  Age Salary Score\n",
       "1   1 Alice 25  50000   80  \n",
       "6   6 Frank 35  75000   92  \n",
       "10 10 Jack  27  72000  Inf  "
      ]
     },
     "metadata": {},
     "output_type": "display_data"
    }
   ],
   "source": [
    "df[complete.cases(df), ]\n"
   ]
  },
  {
   "cell_type": "code",
   "execution_count": 15,
   "metadata": {
    "collapsed": false,
    "jupyter": {
     "outputs_hidden": false,
     "source_hidden": false
    },
    "nteract": {
     "transient": {
      "deleting": false
     }
    }
   },
   "outputs": [
    {
     "data": {
      "text/plain": [
       "       ID            Name                Age            Salary     \n",
       " Min.   : 1.00   Length:10          Min.   :25.00   Min.   :50000  \n",
       " 1st Qu.: 3.25   Class :character   1st Qu.:28.00   1st Qu.:58750  \n",
       " Median : 5.50   Mode  :character   Median :30.00   Median :67500  \n",
       " Mean   : 5.50                      Mean   :33.71   Mean   :65875  \n",
       " 3rd Qu.: 7.75                      3rd Qu.:37.50   3rd Qu.:72750  \n",
       " Max.   :10.00                      Max.   :50.00   Max.   :80000  \n",
       "                                    NA's   :3       NA's   :2      \n",
       "     Score      \n",
       " Min.   :77.00  \n",
       " 1st Qu.:83.75  \n",
       " Median :89.00  \n",
       " Mean   :  Inf  \n",
       " 3rd Qu.:92.75  \n",
       " Max.   :  Inf  \n",
       " NA's   :2      "
      ]
     },
     "metadata": {},
     "output_type": "display_data"
    }
   ],
   "source": [
    "summary(df)"
   ]
  },
  {
   "cell_type": "markdown",
   "metadata": {},
   "source": [
    "b. Identify outliers using boxplot(), quantile(), and IQR()."
   ]
  },
  {
   "cell_type": "code",
   "execution_count": 16,
   "metadata": {
    "collapsed": false,
    "jupyter": {
     "outputs_hidden": false,
     "source_hidden": false
    },
    "nteract": {
     "transient": {
      "deleting": false
     }
    }
   },
   "outputs": [
    {
     "data": {
      "image/png": "[encoded data removed]",
      "text/plain": [
       "Plot with title “Salary Outliers”"
      ]
     },
     "metadata": {
      "image/png": {
       "height": 420,
       "width": 420
      }
     },
     "output_type": "display_data"
    }
   ],
   "source": [
    "boxplot(df$Salary, main = \"Salary Outliers\", horizontal = FALSE)\n"
   ]
  },
  {
   "cell_type": "code",
   "execution_count": 17,
   "metadata": {
    "collapsed": false,
    "jupyter": {
     "outputs_hidden": false,
     "source_hidden": false
    },
    "nteract": {
     "transient": {
      "deleting": false
     }
    }
   },
   "outputs": [
    {
     "name": "stdout",
     "output_type": "stream",
     "text": [
      "[1] NA NA\n"
     ]
    }
   ],
   "source": [
    "# Identify outliers using IQR\n",
    "Q1 <- quantile(df$Salary, 0.25, na.rm = TRUE)\n",
    "Q3 <- quantile(df$Salary, 0.75, na.rm = TRUE)\n",
    "IQR <- Q3 - Q1\n",
    "lower_bound <- Q1 - 1.5 * IQR\n",
    "upper_bound <- Q3 + 1.5 * IQR\n",
    "outliers <- df$Salary[df$Salary < lower_bound | df$Salary > upper_bound]\n",
    "print(outliers)\n"
   ]
  },
  {
   "cell_type": "code",
   "execution_count": 18,
   "metadata": {
    "collapsed": false,
    "jupyter": {
     "outputs_hidden": false,
     "source_hidden": false
    },
    "nteract": {
     "transient": {
      "deleting": false
     }
    }
   },
   "outputs": [
    {
     "name": "stdout",
     "output_type": "stream",
     "text": [
      "[1] 14000\n"
     ]
    }
   ],
   "source": [
    "iqr_value <- IQR(df$Salary, na.rm=TRUE)\n",
    "print(iqr_value)"
   ]
  },
  {
   "cell_type": "markdown",
   "metadata": {},
   "source": [
    "Explore imputation methods like mean, median, and mode replacement using na.omit(),\n",
    "impute(), and mice()."
   ]
  },
  {
   "cell_type": "code",
   "execution_count": 19,
   "metadata": {
    "collapsed": false,
    "jupyter": {
     "outputs_hidden": false,
     "source_hidden": false
    },
    "nteract": {
     "transient": {
      "deleting": false
     }
    }
   },
   "outputs": [
    {
     "name": "stdout",
     "output_type": "stream",
     "text": [
      "   ID  Name Age Salary Score\n",
      "1   1 Alice  25  50000    80\n",
      "6   6 Frank  35  75000    92\n",
      "10 10  Jack  27  72000   Inf\n"
     ]
    }
   ],
   "source": [
    "df_clean <- na.omit(df)\n",
    "print(df_clean)"
   ]
  },
  {
   "cell_type": "markdown",
   "metadata": {},
   "source": [
    "Using Tidyverse Mutate"
   ]
  },
  {
   "cell_type": "code",
   "execution_count": 30,
   "metadata": {
    "collapsed": false,
    "jupyter": {
     "outputs_hidden": false,
     "source_hidden": false
    },
    "nteract": {
     "transient": {
      "deleting": false
     }
    }
   },
   "outputs": [],
   "source": [
    "df <- df %>%\n",
    "  mutate(\n",
    "    Age = ifelse(is.na(Age), mean(Age, na.rm = TRUE), Age),\n",
    "    Salary = ifelse(is.na(Salary), mean(Salary, na.rm = TRUE), Salary),\n",
    "    Score = ifelse(is.na(Score), mean(Score, na.rm = TRUE), Score)\n",
    "  )"
   ]
  },
  {
   "cell_type": "markdown",
   "metadata": {},
   "source": [
    "Using Tidyverse Mice"
   ]
  },
  {
   "cell_type": "code",
   "execution_count": 27,
   "metadata": {},
   "outputs": [
    {
     "ename": "ERROR",
     "evalue": "Error in library(mice): there is no package called ‘mice’\n",
     "output_type": "error",
     "traceback": [
      "Error in library(mice): there is no package called ‘mice’\nTraceback:\n",
      "1. stop(packageNotFoundError(package, lib.loc, sys.call()))"
     ]
    }
   ],
   "source": [
    "# Apply mice for missing value imputation\n",
    "imputed_data <- mice(df, method = \"pmm\", m = 5)  # Predictive Mean Matching\n",
    "\n",
    "# Extract the completed dataset\n",
    "df_complete <- complete(imputed_data)"
   ]
  }
 ],
 "metadata": {
  "kernelspec": {
   "display_name": "R",
   "language": "R",
   "name": "ir"
  },
  "language_info": {
   "codemirror_mode": "r",
   "file_extension": ".r",
   "mimetype": "text/x-r-source",
   "name": "R",
   "pygments_lexer": "r",
   "version": "4.2.2"
  }
 },
 "nbformat": 4,
 "nbformat_minor": 4
}
