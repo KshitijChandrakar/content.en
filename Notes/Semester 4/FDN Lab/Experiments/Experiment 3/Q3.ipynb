{
 "cells": [
  {
   "cell_type": "markdown",
   "metadata": {},
   "source": [
    "## Outlier Detection & Handling"
   ]
  },
  {
   "cell_type": "markdown",
   "metadata": {},
   "source": [
    "### Preprocessing"
   ]
  },
  {
   "cell_type": "code",
   "execution_count": 9,
   "metadata": {
    "collapsed": false,
    "jupyter": {
     "outputs_hidden": false,
     "source_hidden": false
    },
    "nteract": {
     "transient": {
      "deleting": false
     }
    }
   },
   "outputs": [],
   "source": [
    "library(tidyverse)"
   ]
  },
  {
   "cell_type": "code",
   "execution_count": 10,
   "metadata": {
    "collapsed": false,
    "jupyter": {
     "outputs_hidden": false,
     "source_hidden": false
    },
    "nteract": {
     "transient": {
      "deleting": false
     }
    }
   },
   "outputs": [],
   "source": [
    "setwd(\"/home/asus/content/Notes/Semester 4/FDN Lab/Experiments/Experiment 3\")"
   ]
  },
  {
   "cell_type": "code",
   "execution_count": 11,
   "metadata": {
    "collapsed": false,
    "jupyter": {
     "outputs_hidden": false,
     "source_hidden": false
    },
    "nteract": {
     "transient": {
      "deleting": false
     }
    }
   },
   "outputs": [],
   "source": [
    "df_mean <- data.frame(\n",
    "  ID = c(1, 2, 3, 4, 5, 6, 7, 8, 9, 10),\n",
    "  Name = c(\"Alice\", \"Bob\", NA, \"David\", \"Emma\", \"Frank\", NA, \"Hannah\", \"Ian\", \"Jack\"),\n",
    "  Age = c(25, NA, 30, 29, NA, 35, 40, NA, 50, 27),\n",
    "  Salary = c(50000, 60000, 55000, NA, 70000, 75000, 80000, 65000, NA, 72000),\n",
    "  Score = c(80, 90, NA, 85, 88, 92, NA, 77, 95, Inf)\n",
    ")\n"
   ]
  },
  {
   "cell_type": "markdown",
   "metadata": {},
   "source": [
    "Boxplot Visualization to visualize salary data"
   ]
  },
  {
   "cell_type": "code",
   "execution_count": 12,
   "metadata": {
    "collapsed": false,
    "jupyter": {
     "outputs_hidden": false,
     "source_hidden": false
    },
    "nteract": {
     "transient": {
      "deleting": false
     }
    }
   },
   "outputs": [
    {
     "name": "stderr",
     "output_type": "stream",
     "text": [
      "Warning message:\n",
      "“\u001b[1m\u001b[22mRemoved 2 rows containing non-finite outside the scale range (`stat_boxplot()`).”\n"
     ]
    },
    {
     "data": {
      "image/png": "[encoded data removed]",
      "text/plain": [
       "plot without title"
      ]
     },
     "metadata": {
      "image/png": {
       "height": 420,
       "width": 420
      }
     },
     "output_type": "display_data"
    }
   ],
   "source": [
    "# i. Boxplot Visualization to visualize Salary data\n",
    "ggplot(df_mean, aes(y = Salary)) +\n",
    "  geom_boxplot(fill = \"skyblue\", outlier.color = \"red\", outlier.shape = 16) +\n",
    "  labs(title = \"Boxplot of Salary\", y = \"Salary\")\n",
    "\n"
   ]
  },
  {
   "cell_type": "markdown",
   "metadata": {},
   "source": [
    "Z-Score Method (values outside ±3 standard deviations)."
   ]
  },
  {
   "cell_type": "code",
   "execution_count": 13,
   "metadata": {
    "collapsed": false,
    "jupyter": {
     "outputs_hidden": false,
     "source_hidden": false
    },
    "nteract": {
     "transient": {
      "deleting": false
     }
    }
   },
   "outputs": [
    {
     "name": "stdout",
     "output_type": "stream",
     "text": [
      "  ID   Name Age Salary Score\n",
      "1  1  Alice  25  50000    80\n",
      "2  2    Bob  NA  60000    90\n",
      "3  3   <NA>  30  55000    NA\n",
      "4  5   Emma  NA  70000    88\n",
      "5  6  Frank  35  75000    92\n",
      "6  7   <NA>  40  80000    NA\n",
      "7  8 Hannah  NA  65000    77\n",
      "8 10   Jack  27  72000   Inf\n"
     ]
    }
   ],
   "source": [
    "# ii. Z-Score Method (Values outside ±3 standard deviations)\n",
    "df_mean_z <- df_mean %>%\n",
    "  mutate(Salary_Z = as.numeric(scale(Salary))) %>%  # Convert scale output to numeric\n",
    "  filter(abs(Salary_Z) <= 3) %>%  # Remove outliers\n",
    "  select(-Salary_Z)  # Remove Z-score column\n",
    "print(df_mean_z)\n",
    "\n"
   ]
  },
  {
   "cell_type": "markdown",
   "metadata": {},
   "source": [
    "iii. IQR Method: Remove values outside Q1 - 1.5*IQR and Q3 + 1.5*IQR."
   ]
  },
  {
   "cell_type": "code",
   "execution_count": 15,
   "metadata": {
    "collapsed": false,
    "jupyter": {
     "outputs_hidden": false,
     "source_hidden": false
    },
    "nteract": {
     "transient": {
      "deleting": false
     }
    }
   },
   "outputs": [],
   "source": [
    "# iii. IQR Method: Remove values outside Q1 - 1.5*IQR and Q3 + 1.5*IQR\n",
    "Q1 <- quantile(df_mean$Salary, 0.25, na.rm=TRUE)\n",
    "Q3 <- quantile(df_mean$Salary, 0.75, na.rm=TRUE)\n",
    "IQR_value <- Q3 - Q1\n",
    "lower_bound <- Q1 - 1.5 * IQR_value\n",
    "upper_bound <- Q3 + 1.5 * IQR_value"
   ]
  },
  {
   "cell_type": "code",
   "execution_count": 16,
   "metadata": {},
   "outputs": [],
   "source": [
    "df_mean_iqr <- df_mean %>%\n",
    "  filter(Salary >= lower_bound & Salary <= upper_bound)"
   ]
  },
  {
   "cell_type": "markdown",
   "metadata": {},
   "source": [
    "iv. Winsorization: Replace extreme values with percentiles (Winsorize())."
   ]
  },
  {
   "cell_type": "code",
   "execution_count": 8,
   "metadata": {
    "collapsed": false,
    "jupyter": {
     "outputs_hidden": false,
     "source_hidden": false
    },
    "nteract": {
     "transient": {
      "deleting": false
     }
    }
   },
   "outputs": [
    {
     "ename": "ERROR",
     "evalue": "\u001b[1m\u001b[33mError\u001b[39m in `mutate()`:\u001b[22m\n\u001b[1m\u001b[22m\u001b[36mℹ\u001b[39m In argument: `Salary = Winsorize(Salary, probs = c(0.05, 0.95))`.\n\u001b[1mCaused by error in `Winsorize()`:\u001b[22m\n\u001b[33m!\u001b[39m unused argument (probs = c(0.05, 0.95))\n",
     "output_type": "error",
     "traceback": [
      "\u001b[1m\u001b[33mError\u001b[39m in `mutate()`:\u001b[22m\n\u001b[1m\u001b[22m\u001b[36mℹ\u001b[39m In argument: `Salary = Winsorize(Salary, probs = c(0.05, 0.95))`.\n\u001b[1mCaused by error in `Winsorize()`:\u001b[22m\n\u001b[33m!\u001b[39m unused argument (probs = c(0.05, 0.95))\nTraceback:\n",
      "1. mutate(., Salary = Winsorize(Salary, probs = c(0.05, 0.95)))",
      "2. mutate.data.frame(., Salary = Winsorize(Salary, probs = c(0.05, \n .     0.95)))",
      "3. mutate_cols(.data, dplyr_quosures(...), by)",
      "4. withCallingHandlers(for (i in seq_along(dots)) {\n .     poke_error_context(dots, i, mask = mask)\n .     context_poke(\"column\", old_current_column)\n .     new_columns <- mutate_col(dots[[i]], data, mask, new_columns)\n . }, error = dplyr_error_handler(dots = dots, mask = mask, bullets = mutate_bullets, \n .     error_call = error_call, error_class = \"dplyr:::mutate_error\"), \n .     warning = dplyr_warning_handler(state = warnings_state, mask = mask, \n .         error_call = error_call))",
      "5. mutate_col(dots[[i]], data, mask, new_columns)",
      "6. mask$eval_all_mutate(quo)",
      "7. eval()",
      "8. .handleSimpleError(function (cnd) \n . {\n .     local_error_context(dots, i = frame[[i_sym]], mask = mask)\n .     if (inherits(cnd, \"dplyr:::internal_error\")) {\n .         parent <- error_cnd(message = bullets(cnd))\n .     }\n .     else {\n .         parent <- cnd\n .     }\n .     message <- c(cnd_bullet_header(action), i = if (has_active_group_context(mask)) cnd_bullet_cur_group_label())\n .     abort(message, class = error_class, parent = parent, call = error_call)\n . }, \"unused argument (probs = c(0.05, 0.95))\", base::quote(Winsorize(Salary, \n .     probs = c(0.05, 0.95))))",
      "9. h(simpleError(msg, call))",
      "10. abort(message, class = error_class, parent = parent, call = error_call)",
      "11. signal_abort(cnd, .file)",
      "12. signalCondition(cnd)"
     ]
    }
   ],
   "source": [
    "# iv. Winsorization: Replace extreme values with 5th and 95th percentiles\n",
    "library(DescTools)\n",
    "df_mean_winsorized <- df_mean %>%\n",
    "  mutate(Salary = Winsorize(Salary, probs = c(0.05, 0.95)))"
   ]
  },
  {
   "cell_type": "markdown",
   "metadata": {},
   "source": [
    "v. Detect & Remove Outliers Using tidyverse (filter())"
   ]
  },
  {
   "cell_type": "code",
   "execution_count": 17,
   "metadata": {
    "collapsed": false,
    "jupyter": {
     "outputs_hidden": false,
     "source_hidden": false
    },
    "nteract": {
     "transient": {
      "deleting": false
     }
    }
   },
   "outputs": [],
   "source": [
    "# v. Detect & Remove Outliers Using tidyverse (filter method)\n",
    "df_mean_tidy_outliers <- df_mean %>%\n",
    "  filter(between(Salary, lower_bound, upper_bound))\n"
   ]
  },
  {
   "cell_type": "markdown",
   "metadata": {},
   "source": [
    "vi. Detect Outliers in Multiple Columns (apply())."
   ]
  },
  {
   "cell_type": "code",
   "execution_count": 19,
   "metadata": {
    "collapsed": false,
    "jupyter": {
     "outputs_hidden": false,
     "source_hidden": false
    },
    "nteract": {
     "transient": {
      "deleting": false
     }
    }
   },
   "outputs": [],
   "source": [
    "# vi. Detect Outliers in Multiple Columns using apply() (Z-score method)\n",
    "detect_outliers <- function(x) {\n",
    "  if (is.numeric(x)) {\n",
    "    z_scores <- scale(x)\n",
    "    return(abs(z_scores) > 3)\n",
    "  } else {\n",
    "    return(rep(FALSE, length(x)))\n",
    "  }\n",
    "}\n",
    "\n",
    "outlier_matrix <- apply(df_mean, 2, detect_outliers)\n",
    "df_mean_clean <- df_mean[!rowSums(outlier_matrix), ]  # Remove rows with outliers\n"
   ]
  },
  {
   "cell_type": "markdown",
   "metadata": {},
   "source": [
    "vii. Create a Clean Dataset After Removing Outliers"
   ]
  },
  {
   "cell_type": "code",
   "execution_count": 21,
   "metadata": {
    "collapsed": false,
    "jupyter": {
     "outputs_hidden": false,
     "source_hidden": false
    },
    "nteract": {
     "transient": {
      "deleting": false
     }
    }
   },
   "outputs": [],
   "source": [
    "# vii. Create a Clean Dataset After Removing Outliers\n",
    "df_mean_final <- df_mean_iqr  # Using IQR method for final clean dataset\n",
    "write.csv(df_mean_final, \"Clean_Dataset.csv\", row.names = FALSE)"
   ]
  }
 ],
 "metadata": {
  "kernelspec": {
   "display_name": "R",
   "language": "R",
   "name": "ir"
  },
  "language_info": {
   "codemirror_mode": "r",
   "file_extension": ".r",
   "mimetype": "text/x-r-source",
   "name": "R",
   "pygments_lexer": "r",
   "version": "4.2.2"
  }
 },
 "nbformat": 4,
 "nbformat_minor": 4
}
