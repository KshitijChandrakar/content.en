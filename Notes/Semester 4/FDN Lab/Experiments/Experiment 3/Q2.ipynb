{
 "cells": [
  {
   "cell_type": "markdown",
   "metadata": {},
   "source": [
    "## Handling Missing Data"
   ]
  },
  {
   "cell_type": "markdown",
   "metadata": {},
   "source": [
    "### Preprocessing"
   ]
  },
  {
   "cell_type": "code",
   "execution_count": 1,
   "metadata": {
    "collapsed": false,
    "jupyter": {
     "outputs_hidden": false,
     "source_hidden": false
    },
    "nteract": {
     "transient": {
      "deleting": false
     }
    }
   },
   "outputs": [
    {
     "name": "stderr",
     "output_type": "stream",
     "text": [
      "── \u001b[1mAttaching core tidyverse packages\u001b[22m ──────────────────────────────────────────────────────────── tidyverse 2.0.0 ──\n",
      "\u001b[32m✔\u001b[39m \u001b[34mdplyr    \u001b[39m 1.1.4     \u001b[32m✔\u001b[39m \u001b[34mreadr    \u001b[39m 2.1.5\n",
      "\u001b[32m✔\u001b[39m \u001b[34mforcats  \u001b[39m 1.0.0     \u001b[32m✔\u001b[39m \u001b[34mstringr  \u001b[39m 1.5.1\n",
      "\u001b[32m✔\u001b[39m \u001b[34mggplot2  \u001b[39m 3.5.1     \u001b[32m✔\u001b[39m \u001b[34mtibble   \u001b[39m 3.2.1\n",
      "\u001b[32m✔\u001b[39m \u001b[34mlubridate\u001b[39m 1.9.4     \u001b[32m✔\u001b[39m \u001b[34mtidyr    \u001b[39m 1.3.1\n",
      "\u001b[32m✔\u001b[39m \u001b[34mpurrr    \u001b[39m 1.0.4     \n",
      "── \u001b[1mConflicts\u001b[22m ────────────────────────────────────────────────────────────────────────────── tidyverse_conflicts() ──\n",
      "\u001b[31m✖\u001b[39m \u001b[34mdplyr\u001b[39m::\u001b[32mfilter()\u001b[39m masks \u001b[34mstats\u001b[39m::filter()\n",
      "\u001b[31m✖\u001b[39m \u001b[34mdplyr\u001b[39m::\u001b[32mlag()\u001b[39m    masks \u001b[34mstats\u001b[39m::lag()\n",
      "\u001b[36mℹ\u001b[39m Use the conflicted package (\u001b[3m\u001b[34m<http://conflicted.r-lib.org/>\u001b[39m\u001b[23m) to force all conflicts to become errors\n"
     ]
    }
   ],
   "source": [
    "library(tidyverse)"
   ]
  },
  {
   "cell_type": "code",
   "execution_count": 2,
   "metadata": {
    "collapsed": false,
    "jupyter": {
     "outputs_hidden": false,
     "source_hidden": false
    },
    "nteract": {
     "transient": {
      "deleting": false
     }
    }
   },
   "outputs": [],
   "source": [
    "setwd(\"/home/asus/content/Notes/Semester 4/FDN Lab/Experiments/Experiment 3\")"
   ]
  },
  {
   "cell_type": "code",
   "execution_count": 3,
   "metadata": {
    "collapsed": false,
    "jupyter": {
     "outputs_hidden": false,
     "source_hidden": false
    },
    "nteract": {
     "transient": {
      "deleting": false
     }
    }
   },
   "outputs": [],
   "source": [
    "df <- data.frame(\n",
    "  ID = c(1, 2, 3, 4, 5, 6, 7, 8, 9, 10),\n",
    "  Name = c(\"Alice\", \"Bob\", NA, \"David\", \"Emma\", \"Frank\", NA, \"Hannah\", \"Ian\", \"Jack\"),\n",
    "  Age = c(25, NA, 30, 29, NA, 35, 40, NA, 50, 27),\n",
    "  Salary = c(50000, 60000, 55000, NA, 70000, 75000, 80000, 65000, NA, 72000),\n",
    "  Score = c(80, 90, NA, 85, 88, 92, NA, 77, 95, Inf)\n",
    ")\n",
    "\n"
   ]
  },
  {
   "cell_type": "markdown",
   "metadata": {
    "collapsed": false,
    "jupyter": {
     "outputs_hidden": false,
     "source_hidden": false
    },
    "nteract": {
     "transient": {
      "deleting": false
     }
    }
   },
   "source": [
    "Identify missing data (is.na(df), sum(is.na(df))).\n"
   ]
  },
  {
   "cell_type": "code",
   "execution_count": 4,
   "metadata": {
    "collapsed": false,
    "jupyter": {
     "outputs_hidden": false,
     "source_hidden": false
    },
    "nteract": {
     "transient": {
      "deleting": false
     }
    }
   },
   "outputs": [
    {
     "name": "stdout",
     "output_type": "stream",
     "text": [
      "         ID  Name   Age Salary Score\n",
      " [1,] FALSE FALSE FALSE  FALSE FALSE\n",
      " [2,] FALSE FALSE  TRUE  FALSE FALSE\n",
      " [3,] FALSE  TRUE FALSE  FALSE  TRUE\n",
      " [4,] FALSE FALSE FALSE   TRUE FALSE\n",
      " [5,] FALSE FALSE  TRUE  FALSE FALSE\n",
      " [6,] FALSE FALSE FALSE  FALSE FALSE\n",
      " [7,] FALSE  TRUE FALSE  FALSE  TRUE\n",
      " [8,] FALSE FALSE  TRUE  FALSE FALSE\n",
      " [9,] FALSE FALSE FALSE   TRUE FALSE\n",
      "[10,] FALSE FALSE FALSE  FALSE FALSE\n",
      "[1] 9\n"
     ]
    }
   ],
   "source": [
    "# i. Identify missing data\n",
    "print(is.na(df))  # Identify missing values\n",
    "print(sum(is.na(df)))  # Count total missing values\n"
   ]
  },
  {
   "cell_type": "markdown",
   "metadata": {},
   "source": [
    "Remove missing rows (na.omit(df))"
   ]
  },
  {
   "cell_type": "code",
   "execution_count": 5,
   "metadata": {
    "collapsed": false,
    "jupyter": {
     "outputs_hidden": false,
     "source_hidden": false
    },
    "nteract": {
     "transient": {
      "deleting": false
     }
    }
   },
   "outputs": [
    {
     "name": "stdout",
     "output_type": "stream",
     "text": [
      "   ID  Name Age Salary Score\n",
      "1   1 Alice  25  50000    80\n",
      "6   6 Frank  35  75000    92\n",
      "10 10  Jack  27  72000   Inf\n"
     ]
    }
   ],
   "source": [
    "df_no_na <- na.omit(df)\n",
    "print(df_no_na)"
   ]
  },
  {
   "cell_type": "markdown",
   "metadata": {},
   "source": [
    "Replace NA with zero (df[is.na(df)] <- 0)."
   ]
  },
  {
   "cell_type": "code",
   "execution_count": 6,
   "metadata": {
    "collapsed": false,
    "jupyter": {
     "outputs_hidden": false,
     "source_hidden": false
    },
    "nteract": {
     "transient": {
      "deleting": false
     }
    }
   },
   "outputs": [
    {
     "name": "stdout",
     "output_type": "stream",
     "text": [
      "   ID   Name Age Salary Score\n",
      "1   1  Alice  25  50000    80\n",
      "2   2    Bob   0  60000    90\n",
      "3   3      0  30  55000     0\n",
      "4   4  David  29      0    85\n",
      "5   5   Emma   0  70000    88\n",
      "6   6  Frank  35  75000    92\n",
      "7   7      0  40  80000     0\n",
      "8   8 Hannah   0  65000    77\n",
      "9   9    Ian  50      0    95\n",
      "10 10   Jack  27  72000   Inf\n"
     ]
    }
   ],
   "source": [
    "\n",
    "df_zero <- df\n",
    "df_zero[is.na(df_zero)] <- 0\n",
    "print(df_zero)\n",
    "\n"
   ]
  },
  {
   "cell_type": "markdown",
   "metadata": {},
   "source": [
    "Replace NA with column mean (df$Age[is.na(df$Age)] <- mean(df$Age, na.rm=TRUE))."
   ]
  },
  {
   "cell_type": "code",
   "execution_count": 7,
   "metadata": {
    "collapsed": false,
    "jupyter": {
     "outputs_hidden": false,
     "source_hidden": false
    },
    "nteract": {
     "transient": {
      "deleting": false
     }
    }
   },
   "outputs": [
    {
     "name": "stdout",
     "output_type": "stream",
     "text": [
      "   ID   Name      Age Salary Score\n",
      "1   1  Alice 25.00000  50000    80\n",
      "2   2    Bob 33.71429  60000    90\n",
      "3   3   <NA> 30.00000  55000   Inf\n",
      "4   4  David 29.00000  65875    85\n",
      "5   5   Emma 33.71429  70000    88\n",
      "6   6  Frank 35.00000  75000    92\n",
      "7   7   <NA> 40.00000  80000   Inf\n",
      "8   8 Hannah 33.71429  65000    77\n",
      "9   9    Ian 50.00000  65875    95\n",
      "10 10   Jack 27.00000  72000   Inf\n"
     ]
    }
   ],
   "source": [
    "\n",
    "df <- df\n",
    "\n",
    "df$Age[is.na(df$Age)] <- mean(df$Age, na.rm = TRUE)\n",
    "df$Salary[is.na(df$Salary)] <- mean(df$Salary, na.rm = TRUE)\n",
    "df$Score[is.na(df$Score)] <- mean(df$Score, na.rm = TRUE)\n",
    "\n",
    "print(df)\n"
   ]
  },
  {
   "cell_type": "markdown",
   "metadata": {},
   "source": [
    "Remove Inf and NaN (df$Score[is.infinite(df$Score) | is.nan(df$Score)] <- NA)"
   ]
  },
  {
   "cell_type": "code",
   "execution_count": 8,
   "metadata": {
    "collapsed": false,
    "jupyter": {
     "outputs_hidden": false,
     "source_hidden": false
    },
    "nteract": {
     "transient": {
      "deleting": false
     }
    }
   },
   "outputs": [
    {
     "name": "stdout",
     "output_type": "stream",
     "text": [
      "   ID   Name      Age Salary Score\n",
      "1   1  Alice 25.00000  50000    80\n",
      "2   2    Bob 33.71429  60000    90\n",
      "3   3   <NA> 30.00000  55000    NA\n",
      "4   4  David 29.00000  65875    85\n",
      "5   5   Emma 33.71429  70000    88\n",
      "6   6  Frank 35.00000  75000    92\n",
      "7   7   <NA> 40.00000  80000    NA\n",
      "8   8 Hannah 33.71429  65000    77\n",
      "9   9    Ian 50.00000  65875    95\n",
      "10 10   Jack 27.00000  72000    NA\n"
     ]
    }
   ],
   "source": [
    "df_clean <- df\n",
    "df_clean$Score[is.infinite(df_clean$Score) | is.nan(df_clean$Score)] <- NA\n",
    "print(df_clean)"
   ]
  },
  {
   "cell_type": "markdown",
   "metadata": {},
   "source": [
    "Use tidyverse’s replace_na() for selective column handling."
   ]
  },
  {
   "cell_type": "code",
   "execution_count": 9,
   "metadata": {
    "collapsed": false,
    "jupyter": {
     "outputs_hidden": false,
     "source_hidden": false
    },
    "nteract": {
     "transient": {
      "deleting": false
     }
    }
   },
   "outputs": [
    {
     "name": "stdout",
     "output_type": "stream",
     "text": [
      "   ID   Name      Age Salary Score\n",
      "1   1  Alice 25.00000  50000    80\n",
      "2   2    Bob 33.71429  60000    90\n",
      "3   3   <NA> 30.00000  55000   Inf\n",
      "4   4  David 29.00000  65875    85\n",
      "5   5   Emma 33.71429  70000    88\n",
      "6   6  Frank 35.00000  75000    92\n",
      "7   7   <NA> 40.00000  80000   Inf\n",
      "8   8 Hannah 33.71429  65000    77\n",
      "9   9    Ian 50.00000  65875    95\n",
      "10 10   Jack 27.00000  72000   Inf\n"
     ]
    }
   ],
   "source": [
    "df_tidy <- df %>%\n",
    "mutate(\n",
    "    Age = replace_na(Age, mean(Age, na.rm = TRUE)),\n",
    "    Salary = replace_na(Salary, median(Salary, na.rm = TRUE))\n",
    "  )\n",
    "print(df_tidy)"
   ]
  },
  {
   "cell_type": "markdown",
   "metadata": {},
   "source": [
    "Drop columns with excessive missing data (df <- df[, colSums(is.na(df)) < nrow(df) *\n",
    "0.5])"
   ]
  },
  {
   "cell_type": "code",
   "execution_count": 10,
   "metadata": {
    "collapsed": false,
    "jupyter": {
     "outputs_hidden": false,
     "source_hidden": false
    },
    "nteract": {
     "transient": {
      "deleting": false
     }
    }
   },
   "outputs": [
    {
     "name": "stdout",
     "output_type": "stream",
     "text": [
      "   ID   Name      Age Salary Score\n",
      "1   1  Alice 25.00000  50000    80\n",
      "2   2    Bob 33.71429  60000    90\n",
      "3   3   <NA> 30.00000  55000   Inf\n",
      "4   4  David 29.00000  65875    85\n",
      "5   5   Emma 33.71429  70000    88\n",
      "6   6  Frank 35.00000  75000    92\n",
      "7   7   <NA> 40.00000  80000   Inf\n",
      "8   8 Hannah 33.71429  65000    77\n",
      "9   9    Ian 50.00000  65875    95\n",
      "10 10   Jack 27.00000  72000   Inf\n"
     ]
    }
   ],
   "source": [
    "df_filtered <- df[, colSums(is.na(df)) < (nrow(df) * 0.5)]\n",
    "print(df_filtered)"
   ]
  },
  {
   "cell_type": "markdown",
   "metadata": {},
   "source": [
    "Fill missing categorical values with the mode."
   ]
  },
  {
   "cell_type": "code",
   "execution_count": 11,
   "metadata": {
    "collapsed": false,
    "jupyter": {
     "outputs_hidden": false,
     "source_hidden": false
    },
    "nteract": {
     "transient": {
      "deleting": false
     }
    }
   },
   "outputs": [
    {
     "name": "stdout",
     "output_type": "stream",
     "text": [
      "   ID   Name      Age Salary Score\n",
      "1   1  Alice 25.00000  50000    80\n",
      "2   2    Bob 33.71429  60000    90\n",
      "3   3  Alice 30.00000  55000   Inf\n",
      "4   4  David 29.00000  65875    85\n",
      "5   5   Emma 33.71429  70000    88\n",
      "6   6  Frank 35.00000  75000    92\n",
      "7   7  Alice 40.00000  80000   Inf\n",
      "8   8 Hannah 33.71429  65000    77\n",
      "9   9    Ian 50.00000  65875    95\n",
      "10 10   Jack 27.00000  72000   Inf\n"
     ]
    }
   ],
   "source": [
    "# viii. Fill missing categorical values with mode\n",
    "fill_mode <- function(x) {\n",
    "  if (is.character(x)) {\n",
    "    mode_value <- names(sort(table(x), decreasing = TRUE))[1]\n",
    "    x[is.na(x)] <- mode_value\n",
    "  }\n",
    "  return(x)\n",
    "}\n",
    "df_mode <- df\n",
    "df_mode$Name <- fill_mode(df_mode$Name)\n",
    "print(df_mode)"
   ]
  }
 ],
 "metadata": {
  "kernelspec": {
   "display_name": "R",
   "language": "R",
   "name": "ir"
  },
  "language_info": {
   "codemirror_mode": "r",
   "file_extension": ".r",
   "mimetype": "text/x-r-source",
   "name": "R",
   "pygments_lexer": "r",
   "version": "4.2.2"
  }
 },
 "nbformat": 4,
 "nbformat_minor": 4
}
