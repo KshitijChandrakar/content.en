{
 "cells": [
  {
   "cell_type": "code",
   "execution_count": null,
   "metadata": {
    "nteract": {
     "transient": {
      "deleting": false
     }
    },
    "scrolled": true
   },
   "outputs": [],
   "source": [
    "# Load required libraries\n",
    "set.seed(1)\n",
    "library(tidyverse)\n",
    "library(caret)\n",
    "library(glmnet)\n",
    "library(mlbench)\n",
    "library(randomForest)"
   ]
  },
  {
   "cell_type": "code",
   "execution_count": null,
   "metadata": {
    "nteract": {
     "transient": {
      "deleting": false
     }
    }
   },
   "outputs": [],
   "source": [
    "\n",
    "# Load Pima Indians Diabetes dataset\n",
    "data(\"PimaIndiansDiabetes2\")\n",
    "df <- PimaIndiansDiabetes2\n"
   ]
  },
  {
   "cell_type": "code",
   "execution_count": null,
   "metadata": {
    "nteract": {
     "transient": {
      "deleting": false
     }
    }
   },
   "outputs": [],
   "source": [
    "\n",
    "# Check structure & missing values\n",
    "glimpse(df)\n",
    "summary(df)\n",
    "df <- na.omit(df)\n"
   ]
  },
  {
   "cell_type": "code",
   "execution_count": null,
   "metadata": {
    "nteract": {
     "transient": {
      "deleting": false
     }
    }
   },
   "outputs": [],
   "source": [
    "preProc <- preProcess(df[, -9], method = c(\"center\", \"scale\"))\n",
    "df_scaled <- predict(preProc, df)\n"
   ]
  },
  {
   "cell_type": "code",
   "execution_count": null,
   "metadata": {
    "nteract": {
     "transient": {
      "deleting": false
     }
    }
   },
   "outputs": [],
   "source": [
    "df_scaled <- df_scaled %>% mutate(bmi_age_ratio = mass / age)\n"
   ]
  },
  {
   "cell_type": "code",
   "execution_count": null,
   "metadata": {
    "nteract": {
     "transient": {
      "deleting": false
     }
    }
   },
   "outputs": [],
   "source": [
    "cor_matrix <- cor(df_scaled %>% select(-diabetes))\n",
    "corrplot(cor_matrix, method = \"color\", type = \"upper\", tl.cex = 0.7)"
   ]
  },
  {
   "cell_type": "code",
   "execution_count": null,
   "metadata": {
    "nteract": {
     "transient": {
      "deleting": false
     }
    }
   },
   "outputs": [],
   "source": [
    "ctrl <- rfeControl(functions = rfFuncs, method = \"cv\", number = 10)\n",
    "rfe_result <- rfe(\n",
    "  x = df_scaled %>% select(-diabetes),\n",
    "  y = df_scaled$diabetes,\n",
    "  sizes = 1:8, # Test subsets of 1 to 8 features\n",
    "  rfeControl = ctrl\n",
    ")\n",
    "\n",
    "# Top selected features\n",
    "print(rfe_result)\n",
    "plot(rfe_result, type = c(\"g\", \"o\"))"
   ]
  },
  {
   "cell_type": "code",
   "execution_count": null,
   "metadata": {
    "nteract": {
     "transient": {
      "deleting": false
     }
    }
   },
   "outputs": [],
   "source": [
    "x <- model.matrix(diabetes ~ ., df_scaled)[, -1] # Exclude intercept\n",
    "y <- ifelse(df_scaled$diabetes == \"pos\", 1, 0)\n",
    "\n",
    "# Fit LASSO\n",
    "cv_lasso <- cv.glmnet(x, y, alpha = 1, family = \"binomial\")\n",
    "plot(cv_lasso)\n",
    "\n",
    "# Coefficients at optimal lambda\n",
    "coef(cv_lasso, s = \"lambda.min\")"
   ]
  },
  {
   "cell_type": "code",
   "execution_count": null,
   "metadata": {
    "nteract": {
     "transient": {
      "deleting": false
     }
    }
   },
   "outputs": [],
   "source": [
    "\n",
    "trainIndex <- createDataPartition(df_scaled$diabetes, p = 0.8, list = FALSE)\n",
    "train <- df_scaled[trainIndex, ]\n",
    "test <- df_scaled[-trainIndex, ]\n"
   ]
  },
  {
   "cell_type": "code",
   "execution_count": null,
   "metadata": {
    "nteract": {
     "transient": {
      "deleting": false
     }
    }
   },
   "outputs": [],
   "source": [
    "model_all <- train(\n",
    "  diabetes ~ .,\n",
    "  data = train,\n",
    "  method = \"glm\",\n",
    "  family = \"binomial\",\n",
    "  trControl = trainControl(method = \"cv\", number = 10)\n",
    ")\n",
    "\n",
    "pred_all <- predict(model_all, test)\n",
    "confusionMatrix(pred_all, test$diabetes)"
   ]
  },
  {
   "cell_type": "code",
   "execution_count": null,
   "metadata": {
    "nteract": {
     "transient": {
      "deleting": false
     }
    }
   },
   "outputs": [],
   "source": [
    "model_selected <- train(\n",
    "  diabetes ~ glucose + mass + bmi_age_ratio,\n",
    "  data = train,\n",
    "  method = \"glm\",\n",
    "  family = \"binomial\",\n",
    "  trControl = trainControl(method = \"cv\", number = 10)\n",
    ")\n",
    "\n",
    "# Predictions\n",
    "pred_selected <- predict(model_selected, test)\n",
    "confusionMatrix(pred_selected, test$diabetes)"
   ]
  },
  {
   "cell_type": "code",
   "execution_count": null,
   "metadata": {},
   "outputs": [],
   "source": []
  }
 ],
 "metadata": {
  "kernelspec": {
   "display_name": "R",
   "language": "R",
   "name": "ir"
  },
  "language_info": {
   "codemirror_mode": "r",
   "file_extension": ".r",
   "mimetype": "text/x-r-source",
   "name": "R",
   "pygments_lexer": "r",
   "version": "4.2.2"
  }
 },
 "nbformat": 4,
 "nbformat_minor": 4
}
