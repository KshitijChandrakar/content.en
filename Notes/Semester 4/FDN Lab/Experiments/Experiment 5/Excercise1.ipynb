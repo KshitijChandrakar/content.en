{
  "cells": [
    {
      "cell_type": "code",
      "source": [
        "# Advertising Budget (in $1000) Monthly Sales (in $1000)\n",
        "data <- data.frame(\n",
        "    AdvertisingBudget = c(1,2,3,4,5),\n",
        "    MonthlySales = c(4,5,7,8,11)\n",
        ")\n",
        "# Takign AdvertisingBudget as Independent cause vibes also cause more budget = more sales\n"
      ],
      "outputs": [],
      "execution_count": null,
      "metadata": {
        "jupyter": {
          "source_hidden": false,
          "outputs_hidden": false
        },
        "nteract": {
          "transient": {
            "deleting": false
          }
        }
      }
    },
    {
      "cell_type": "markdown",
      "source": [
        "Perform a linear regression to predict sales based on the advertising budget using R"
      ],
      "metadata": {
        "nteract": {
          "transient": {
            "deleting": false
          }
        }
      }
    },
    {
      "cell_type": "code",
      "source": [
        "n = length(data$AdvertisingBudget)\n",
        "y_sum = sum(data$MonthlySales)\n",
        "x_sum = sum(data$AdvertisingBudget)\n",
        "\n",
        "print(n * sum(data$AdvertisingBudget * data$AdvertisingBudget))"
      ],
      "outputs": [],
      "execution_count": null,
      "metadata": {
        "jupyter": {
          "source_hidden": false,
          "outputs_hidden": false
        },
        "nteract": {
          "transient": {
            "deleting": false
          }
        }
      }
    },
    {
      "cell_type": "code",
      "source": [
        "slope = (n * sum(data$AdvertisingBudget * data$MonthlySales) - x_sum * y_sum) / (n * sum(data$AdvertisingBudget * data$AdvertisingBudget) - x_sum * x_sum)\n",
        "intercept = (y_sum   - slope * x_sum) / n\n",
        "\n"
      ],
      "outputs": [],
      "execution_count": null,
      "metadata": {
        "jupyter": {
          "source_hidden": false,
          "outputs_hidden": false
        },
        "nteract": {
          "transient": {
            "deleting": false
          }
        }
      }
    },
    {
      "cell_type": "code",
      "source": [
        "print(intercept)\n",
        "print(slope)"
      ],
      "outputs": [],
      "execution_count": null,
      "metadata": {
        "jupyter": {
          "source_hidden": false,
          "outputs_hidden": false
        },
        "nteract": {
          "transient": {
            "deleting": false
          }
        }
      }
    },
    {
      "cell_type": "code",
      "source": [
        "model <- lm(MonthlySales ~ AdvertisingBudget, data = data)\n",
        "print(model)"
      ],
      "outputs": [],
      "execution_count": null,
      "metadata": {
        "jupyter": {
          "source_hidden": false,
          "outputs_hidden": false
        },
        "nteract": {
          "transient": {
            "deleting": false
          }
        }
      }
    },
    {
      "cell_type": "code",
      "source": [
        "library(ggplot2)\n",
        "ggplot(data, aes(x = data$AdvertisingBudget, y = data$MonthlySales)) +\n",
        "  geom_point(color=\"red\", size=2) +\n",
        "  geom_abline(mapping=NULL,slope=slope, intercept=intercept)"
      ],
      "outputs": [],
      "execution_count": null,
      "metadata": {
        "jupyter": {
          "source_hidden": false,
          "outputs_hidden": false
        },
        "nteract": {
          "transient": {
            "deleting": false
          }
        }
      }
    }
  ],
  "metadata": {},
  "nbformat": 4,
  "nbformat_minor": 0
}