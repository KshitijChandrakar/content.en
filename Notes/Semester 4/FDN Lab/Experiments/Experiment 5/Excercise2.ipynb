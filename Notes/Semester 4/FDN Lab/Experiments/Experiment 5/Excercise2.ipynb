{
  "cells": [
    {
      "cell_type": "code",
      "source": [
        "data <- read.csv(\"/home/asus/content/Notes/Semester 4/FDN Lab/Experiments/Experiment 5/house_prices.csv\")\n",
        "\n"
      ],
      "outputs": [],
      "execution_count": null,
      "metadata": {
        "jupyter": {
          "source_hidden": false,
          "outputs_hidden": false
        },
        "nteract": {
          "transient": {
            "deleting": false
          }
        }
      }
    },
    {
      "cell_type": "code",
      "source": [
        "summary(data)\n"
      ],
      "outputs": [],
      "execution_count": null,
      "metadata": {
        "jupyter": {
          "source_hidden": false,
          "outputs_hidden": false
        },
        "nteract": {
          "transient": {
            "deleting": false
          }
        }
      }
    },
    {
      "cell_type": "code",
      "source": [
        "pairs(data, pch = 19)  # Holy shit? scatterplot matrices?\n"
      ],
      "outputs": [],
      "execution_count": null,
      "metadata": {
        "jupyter": {
          "source_hidden": false,
          "outputs_hidden": false
        },
        "nteract": {
          "transient": {
            "deleting": false
          }
        }
      }
    },
    {
      "cell_type": "markdown",
      "source": [
        "Fit a linear regression model using lm() where Price is the dependent variable.\n"
      ],
      "metadata": {
        "nteract": {
          "transient": {
            "deleting": false
          }
        }
      }
    },
    {
      "cell_type": "code",
      "source": [
        "lm(Age ~ Price, data=data)\n",
        "models <- list()\n",
        "for (col in names(data)[names(data) != \"Price\"]) {\n",
        "  formula <- as.formula(paste(\"Price ~\", col))\n",
        "  models[[col]] <- lm(formula = formula, data = data)\n",
        "}\n"
      ],
      "outputs": [],
      "execution_count": null,
      "metadata": {
        "jupyter": {
          "source_hidden": false,
          "outputs_hidden": false
        },
        "nteract": {
          "transient": {
            "deleting": false
          }
        }
      }
    },
    {
      "cell_type": "code",
      "source": [
        "print(names(models[[\"Area\"]]))"
      ],
      "outputs": [],
      "execution_count": null,
      "metadata": {
        "jupyter": {
          "source_hidden": false,
          "outputs_hidden": false
        },
        "nteract": {
          "transient": {
            "deleting": false
          }
        }
      }
    },
    {
      "cell_type": "code",
      "source": [
        "library(ggplot2)\n"
      ],
      "outputs": [],
      "execution_count": null,
      "metadata": {
        "jupyter": {
          "source_hidden": false,
          "outputs_hidden": false
        },
        "nteract": {
          "transient": {
            "deleting": false
          }
        }
      }
    },
    {
      "cell_type": "code",
      "source": [
        "for(col in names(data)[names(data) != \"Price\"]){\n",
        "  p <- ggplot(data, aes_string(y = \"Price\", x = col)) +\n",
        "    geom_point(color=\"red\", size=2) +\n",
        "    geom_abline(color=\"blue\", intercept=coef(models[[col]])[1], slope=coef(models[[col]])[2]) +\n",
        "    labs(title = paste(\"Price vs\", col), x = col, y = \"Price\"  )\n",
        "\n",
        "  ggsave(paste(\"/home/asus/content/Notes/Semester 4/FDN Lab/Experiments/Experiment 5/\", col,\".jpeg\"))\n",
        "}"
      ],
      "outputs": [],
      "execution_count": null,
      "metadata": {
        "jupyter": {
          "source_hidden": false,
          "outputs_hidden": false
        },
        "nteract": {
          "transient": {
            "deleting": false
          }
        }
      }
    },
    {
      "cell_type": "code",
      "source": [
        "\n",
        "library(dplyr)\n"
      ],
      "outputs": [],
      "execution_count": null,
      "metadata": {
        "jupyter": {
          "source_hidden": false,
          "outputs_hidden": false
        },
        "nteract": {
          "transient": {
            "deleting": false
          }
        }
      }
    },
    {
      "cell_type": "code",
      "source": [
        "\n",
        "# Create a summary dataframe\n",
        "model_performance <- data.frame(\n",
        "  Predictor = names(models),\n",
        "  RMSE = sapply(models, function(m) sqrt(mean((data$Price - predict(m))^2))),\n",
        "  R_squared = sapply(models, function(m) summary(m)$r.squared)\n",
        ")\n"
      ],
      "outputs": [],
      "execution_count": null,
      "metadata": {
        "jupyter": {
          "source_hidden": false,
          "outputs_hidden": false
        },
        "nteract": {
          "transient": {
            "deleting": false
          }
        }
      }
    },
    {
      "cell_type": "code",
      "source": [
        "# Sort by best R-squared (descending)\n",
        "model_performance %>%\n",
        "  arrange(desc(R_squared)) %>%\n",
        "  print()"
      ],
      "outputs": [],
      "execution_count": null,
      "metadata": {
        "jupyter": {
          "source_hidden": false,
          "outputs_hidden": false
        },
        "nteract": {
          "transient": {
            "deleting": false
          }
        }
      }
    },
    {
      "cell_type": "code",
      "source": [
        "ggplot(model_performance, aes(x = reorder(Predictor, -RMSE), y = RMSE)) +\n",
        "  geom_bar(stat = \"identity\", fill = \"skyblue\") +\n",
        "  labs(title = \"RMSE by Predictor\", x = \"Predictor\", y = \"RMSE ($)\")"
      ],
      "outputs": [],
      "execution_count": null,
      "metadata": {
        "jupyter": {
          "source_hidden": false,
          "outputs_hidden": false
        },
        "nteract": {
          "transient": {
            "deleting": false
          }
        }
      }
    },
    {
      "cell_type": "code",
      "source": [
        "ggplot(model_performance, aes(x = reorder(Predictor, R_squared), y = R_squared)) +\n",
        "  geom_bar(stat = \"identity\", fill = \"salmon\") +\n",
        "  labs(title = \"R-squared by Predictor\", x = \"Predictor\", y = \"R-squared\") +\n",
        "  ylim(0, 1)"
      ],
      "outputs": [],
      "execution_count": null,
      "metadata": {
        "jupyter": {
          "source_hidden": false,
          "outputs_hidden": false
        },
        "nteract": {
          "transient": {
            "deleting": false
          }
        }
      }
    }
  ],
  "metadata": {},
  "nbformat": 4,
  "nbformat_minor": 0
}